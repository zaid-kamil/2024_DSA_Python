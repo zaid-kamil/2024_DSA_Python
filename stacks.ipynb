{
 "cells": [
  {
   "cell_type": "markdown",
   "metadata": {},
   "source": [
    "# Maximum Element\n",
    "You have an empty sequence, and you will be given  queries. Each query is one of these three types:\n",
    "```\n",
    "1-Push the element x into the stack.\n",
    "2-Delete the element present at the top of the stack.\n",
    "3-Print the maximum element in the stack.\n",
    "```\n",
    "Function Description\n",
    "\n",
    "Complete the getMax function in the editor below.\n",
    "\n",
    "getMax has the following parameters:\n",
    "- string operations[n]: operations as strings\n",
    "\n",
    "Returns\n",
    "- int[]: the answers to each type 3 query\n",
    "\n",
    "Input Format\n",
    "\n",
    "The first line of input contains an integer, . The next  lines each contain an above mentioned query.\n",
    "\n",
    "Constraints\n",
    "\n",
    "Constraints\n",
    "\n",
    "\n",
    "\n",
    "All queries are valid.\n",
    "Sample Input\n",
    "```\n",
    "\n",
    "STDIN   Function\n",
    "-----   --------\n",
    "10      operations[] size n = 10\n",
    "1 97    operations = ['1 97', '2', '1 20', ....]\n",
    "2\n",
    "1 20\n",
    "2\n",
    "1 26\n",
    "1 20\n",
    "2\n",
    "3\n",
    "1 91\n",
    "3\n",
    "```\n",
    "Sample Output\n",
    "```\n",
    "26\n",
    "91\n",
    "```"
   ]
  },
  {
   "cell_type": "code",
   "execution_count": null,
   "metadata": {},
   "outputs": [],
   "source": [
    "def getMax(operations):\n",
    "    stack=[]\n",
    "    mstack=[]\n",
    "    output=[]\n",
    "    for op in operations:\n",
    "        action, *val = op.split()\n",
    "        if action == '1':\n",
    "            stack.append(int(val[0]))\n",
    "            if not mstack or stack[-1] >= mstack[-1]:\n",
    "                mstack.append(stack[-1])\n",
    "        elif action == '2' and stack.pop() == mstack[-1]:\n",
    "            mstack.pop()\n",
    "        elif action == '3':\n",
    "            output.append(mstack[-1])\n",
    "    return output"
   ]
  },
  {
   "cell_type": "code",
   "execution_count": null,
   "metadata": {},
   "outputs": [],
   "source": [
    "d = ['1 97', '2', '1 20', '2', '1 26', '1 20', '2', '3', '1 91', '3']\n",
    "getMax(d)"
   ]
  },
  {
   "cell_type": "markdown",
   "metadata": {},
   "source": [
    "Stack class using Linked List\n",
    "\n",
    "methods: `push, pop, peek, isEmpty, __str__`"
   ]
  },
  {
   "cell_type": "code",
   "execution_count": null,
   "metadata": {},
   "outputs": [],
   "source": [
    "class Node:\n",
    "    def __init__(self, data):\n",
    "        self.data = data\n",
    "        self.next = None\n",
    "class Stack:\n",
    "    def __init__(self):\n",
    "        self.top = None\n",
    "    \n",
    "    def push(self, data):\n",
    "        node = Node(data)\n",
    "        node.next = self.top\n",
    "        self.top = node\n",
    "    \n",
    "    def isEmpty(self):\n",
    "        return self.top == None\n",
    "\n",
    "    def pop(self):\n",
    "        if self.isEmpty():\n",
    "            return None\n",
    "        data = self.top.data\n",
    "        self.top = self.top.next\n",
    "        return data\n",
    "\n",
    "    def peek(self):\n",
    "        if not self.isEmpty():\n",
    "            return self.top.data\n",
    "\n",
    "    def __str__(self):\n",
    "        s = \"\"\n",
    "        temp = self.top\n",
    "        while temp!=None:\n",
    "            s += f\"{temp.data} \"\n",
    "            temp = temp.next\n",
    "        return f\"Stack: {s}\""
   ]
  },
  {
   "cell_type": "code",
   "execution_count": null,
   "metadata": {},
   "outputs": [],
   "source": [
    "s = Stack()\n",
    "s.push(5)\n",
    "s.push(4)\n",
    "s.push(3)\n",
    "s.push(2)\n",
    "print(s)\n",
    "print(s.pop())\n",
    "print(s)\n",
    "print(s.pop())\n",
    "print(s)\n",
    "print(s.pop())\n",
    "print(s)\n",
    "print(s.peek()) "
   ]
  },
  {
   "cell_type": "markdown",
   "metadata": {},
   "source": [
    "# Balanced Brackets\n",
    "Given  strings of brackets, determine whether each sequence of brackets is balanced. If a string is balanced, return YES. Otherwise, return NO.\n",
    "\n",
    "Function Description\n",
    "\n",
    "Complete the function isBalanced in the editor below.\n",
    "\n",
    "isBalanced has the following parameter(s):\n",
    "\n",
    "string s: a string of brackets\n",
    "Returns\n",
    "\n",
    "string: either YES or NO\n",
    "Input Format\n",
    "\n",
    "The first line contains a single integer , the number of strings.\n",
    "Each of the next  lines contains a single string , a sequence of brackets.\n",
    "\n",
    "Constraints\n",
    "\n",
    ", where  is the length of the sequence.\n",
    "All chracters in the sequences ∈ { {, }, (, ), [, ] }.\n",
    "Output Format\n",
    "\n",
    "For each string, return YES or NO.\n",
    "\n",
    "Sample Input\n",
    "```STDIN           Function\n",
    "-----           --------\n",
    "3               n = 3\n",
    "{[()]}          first s = '{[()]}'\n",
    "{[(])}          second s = '{[(])}'\n",
    "{{[[(())]]}}    third s ='{{[[(())]]}}'\n",
    "```\n",
    "Sample Output\n",
    "```\n",
    "YES\n",
    "NO\n",
    "YES\n",
    "```\n",
    "Explanation\n",
    "\n",
    "The string {[()]} meets both criteria for being a balanced string.\n",
    "The string {[(])} is not balanced because the brackets enclosed by the matched pair { and } are not balanced: [(]).\n",
    "The string {{[[(())]]}} meets both criteria for being a balanced string.\n"
   ]
  },
  {
   "cell_type": "code",
   "execution_count": null,
   "metadata": {},
   "outputs": [],
   "source": [
    "def isBalanced(s):\n",
    "    if len(s) % 2 != 0:\n",
    "        return \"NO\"\n",
    "    stack = Stack()\n",
    "    for c in s:\n",
    "        if c == '(' or c=='{' or c=='[':\n",
    "            stack.push(c)\n",
    "        else:\n",
    "            if stack.isEmpty():\n",
    "                return \"NO\"\n",
    "        top = stack.peek()\n",
    "        if (c == '}' and top == '{') or (c == ']' and top == '[') or (c == ')' and top == '('):\n",
    "            print(f\"{top}{c} is a pair\")\n",
    "            stack.pop()\n",
    "    return \"YES\" if stack.isEmpty() else \"NO\"\n",
    "s = [\"{[()]}\", \"{[(])}\", \"{{[[(())]]}}\", \"{[()]}\", \"{[(])}\", \"{{[[(())]]}}\"]\n",
    "for i in s:\n",
    "    print(isBalanced(i))"
   ]
  },
  {
   "cell_type": "markdown",
   "metadata": {},
   "source": [
    "# Equal Stacks\n",
    "You have three stacks of cylinders where each cylinder has the same diameter, but they may vary in height. You can change the height of a stack by removing and discarding its topmost cylinder any number of times."
   ]
  },
  {
   "cell_type": "code",
   "execution_count": 59,
   "metadata": {},
   "outputs": [
    {
     "name": "stdout",
     "output_type": "stream",
     "text": [
      "8 9 7\n",
      "5 5 7\n",
      "5 5 6\n"
     ]
    },
    {
     "data": {
      "text/plain": [
       "5"
      ]
     },
     "execution_count": 59,
     "metadata": {},
     "output_type": "execute_result"
    }
   ],
   "source": [
    "from collections import deque\n",
    "def equalStacks(h1, h2, h3):\n",
    "    h1,h2,h3 = deque(h1), deque(h2), deque(h3)\n",
    "    sum1, sum2, sum3 = sum(h1), sum(h2), sum(h3)\n",
    "    while not (sum1 == sum2 == sum3):\n",
    "        print(sum1, sum2, sum3)\n",
    "        m = min(sum1, sum2, sum3)\n",
    "        if sum1 > m:\n",
    "            sum1 -= h1.popleft()\n",
    "        if sum2 > m:\n",
    "            sum2 -= h2.popleft()\n",
    "        if sum3 > m:\n",
    "            sum3 -= h3.popleft()\n",
    "    return sum1\n",
    "\n",
    "h1 = [3, 2, 1, 1, 1]\n",
    "h2 = [4, 3, 2]\n",
    "h3 = [1, 1, 4, 1]\n",
    "equalStacks(h1, h2, h3)"
   ]
  },
  {
   "cell_type": "code",
   "execution_count": null,
   "metadata": {},
   "outputs": [],
   "source": []
  }
 ],
 "metadata": {
  "kernelspec": {
   "display_name": "base",
   "language": "python",
   "name": "python3"
  },
  "language_info": {
   "codemirror_mode": {
    "name": "ipython",
    "version": 3
   },
   "file_extension": ".py",
   "mimetype": "text/x-python",
   "name": "python",
   "nbconvert_exporter": "python",
   "pygments_lexer": "ipython3",
   "version": "3.12.2"
  }
 },
 "nbformat": 4,
 "nbformat_minor": 2
}
