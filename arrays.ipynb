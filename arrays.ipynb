{
 "cells": [
  {
   "cell_type": "markdown",
   "metadata": {},
   "source": [
    "# Hour Glass Sum\n",
    "Find the maximum hour glass sum in a 6x6 matrix.\n",
    "\n",
    "An hour glass is a subset of values in the matrix that form the shape of an hour glass. The hour glass sum is the sum of all the values in the hour glass.\n",
    "\n",
    "For example, given the following matrix:\n",
    "```\n",
    "1 1 1 0 0 0\n",
    "0 1 0 0 0 0\n",
    "1 1 1 0 0 0\n",
    "0 0 2 4 4 0\n",
    "0 0 0 2 0 0\n",
    "0 0 1 2 4 0\n",
    "```\n",
    "\n",
    "The maximum hour glass sum is 19, which is the sum of the hour glass:\n",
    "```\n",
    "1 1 1\n",
    "  1\n",
    "1 1 1\n",
    "```\n",
    "&\n",
    "```\n",
    "2 4 4\n",
    "  2\n",
    "1 2 4\n",
    "```\n",
    "\n",
    "## Plan\n",
    "1. Iterate over the range of the length of the matrix minus 2.\n",
    "2. Iterate over the range of the length of the matrix minus 2.\n",
    "3. Create a variable `total` and set it to the sum of the hour glass.\n",
    "4. If `total` is greater than the current maximum hour glass sum, set the maximum hour glass sum to `total`.\n",
    "5. Return the maximum hour glass sum."
   ]
  },
  {
   "cell_type": "code",
   "execution_count": 5,
   "metadata": {},
   "outputs": [
    {
     "name": "stdout",
     "output_type": "stream",
     "text": [
      "19\n"
     ]
    }
   ],
   "source": [
    "def hourglassSum(arr):\n",
    "    max_sum = -float('inf')\n",
    "    for i in range(4):\n",
    "        for j in range(4):\n",
    "            t = arr[i][j] + arr[i][j+1]+ arr[i][j+2]\n",
    "            m = arr[i+1][j+1]\n",
    "            b = arr[i+2][j] + arr[i+2][j+1] + arr[i+2][j+2]\n",
    "            total = t + m + b\n",
    "            max_sum = max(max_sum, total)\n",
    "    return max_sum\n",
    "\n",
    "\n",
    "arr = [\n",
    "[1, 1, 1, 0, 0, 0,],\n",
    "[0, 1, 0, 0, 0, 0,],\n",
    "[1, 1, 1, 0, 0, 0,],\n",
    "[0, 0, 2, 4, 4, 0,],\n",
    "[0, 0, 0, 2, 0, 0,],\n",
    "[0, 0, 1, 2, 4, 0,],\n",
    "]\n",
    "\n",
    "result = hourglassSum(arr)\n",
    "print(result)"
   ]
  },
  {
   "cell_type": "code",
   "execution_count": 6,
   "metadata": {},
   "outputs": [
    {
     "name": "stdout",
     "output_type": "stream",
     "text": [
      "28\n"
     ]
    }
   ],
   "source": [
    "arr2 = [\n",
    "[-9, -9, -9, 1, 1, 1,],\n",
    "[0, -9, 0, 4, 3, 2,],\n",
    "[-9, -9, -9, 1, 2, 3,],\n",
    "[0, 0, 8, 6, 6, 0,],\n",
    "[0, 0, 0, -2, 0, 0,],\n",
    "[0, 0, 1, 2, 4, 0,],\n",
    "]\n",
    "\n",
    "result = hourglassSum(arr2)\n",
    "print(result)"
   ]
  },
  {
   "cell_type": "code",
   "execution_count": null,
   "metadata": {},
   "outputs": [],
   "source": []
  }
 ],
 "metadata": {
  "kernelspec": {
   "display_name": "base",
   "language": "python",
   "name": "python3"
  },
  "language_info": {
   "codemirror_mode": {
    "name": "ipython",
    "version": 3
   },
   "file_extension": ".py",
   "mimetype": "text/x-python",
   "name": "python",
   "nbconvert_exporter": "python",
   "pygments_lexer": "ipython3",
   "version": "3.12.2"
  }
 },
 "nbformat": 4,
 "nbformat_minor": 2
}
