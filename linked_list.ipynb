{
 "cells": [
  {
   "cell_type": "markdown",
   "metadata": {},
   "source": [
    "manual example"
   ]
  },
  {
   "cell_type": "code",
   "execution_count": 212,
   "metadata": {},
   "outputs": [],
   "source": [
    "class Node:\n",
    "    def __init__(self, value):\n",
    "        self.data = value\n",
    "        self.next = None"
   ]
  },
  {
   "cell_type": "code",
   "execution_count": 213,
   "metadata": {},
   "outputs": [
    {
     "name": "stdout",
     "output_type": "stream",
     "text": [
      "1 None\n",
      "2234167707888 2234167720032 2234167710048\n"
     ]
    }
   ],
   "source": [
    "a = Node(1)\n",
    "b = Node(11)\n",
    "c = Node(111)\n",
    "print(a.data, a.next)\n",
    "print(id(a), id(b), id(c))"
   ]
  },
  {
   "cell_type": "code",
   "execution_count": 214,
   "metadata": {},
   "outputs": [],
   "source": [
    "a.next = b\n",
    "b.next = c"
   ]
  },
  {
   "cell_type": "code",
   "execution_count": 215,
   "metadata": {},
   "outputs": [
    {
     "name": "stdout",
     "output_type": "stream",
     "text": [
      "<__main__.Node object at 0x000002082EC5F860>\n",
      "<__main__.Node object at 0x000002082EC5D160>\n",
      "None\n"
     ]
    }
   ],
   "source": [
    "print(a.next, b.next, c.next, sep='\\n')"
   ]
  },
  {
   "cell_type": "markdown",
   "metadata": {},
   "source": [
    "linked_list"
   ]
  },
  {
   "cell_type": "code",
   "execution_count": 216,
   "metadata": {},
   "outputs": [],
   "source": [
    "class Node:\n",
    "    def __init__(self, value):\n",
    "        self.data = value\n",
    "        self.next = None\n",
    "\n",
    "class LinkedList:\n",
    "    def __init__(self):\n",
    "        # empty linked list\n",
    "        self.head = None\n",
    "        self.n = 0 # number of nodes\n",
    "    \n",
    "    def __len__(self):\n",
    "        return self.n\n",
    "    \n",
    "    def insert_head(self, value):\n",
    "        new_node = Node(value) # create new node\n",
    "        new_node.next = self.head # connect        \n",
    "        self.head = new_node # update head\n",
    "        self.n += 1 # increase node count\n",
    "    \n",
    "    def append(self, value):\n",
    "        if self.head == None:\n",
    "            self.head = Node(value)\n",
    "        else:\n",
    "            new_node = Node(value)\n",
    "            current = self.head\n",
    "            while current.next !=None: # stop before end\n",
    "                current = current.next\n",
    "            current.next = new_node\n",
    "        self.n += 1\n",
    "    \n",
    "    def insert_after(self, after, value):\n",
    "        new_node = Node(value)\n",
    "        current = self.head\n",
    "        while current!=None:\n",
    "            if current.data == after:\n",
    "                break\n",
    "            current = current.next\n",
    "        if current!=None:\n",
    "            new_node.next = current.next\n",
    "            current.next = new_node\n",
    "            self.n += 1\n",
    "        else:\n",
    "            print(\"item not found\")\n",
    "\n",
    "    def clear(self):\n",
    "        self.head = None\n",
    "        self.n = 0\n",
    "    \n",
    "    def delete_head(self):\n",
    "        if self.head == None:\n",
    "            return \"Empty Linked List\"\n",
    "        self.head = self.head.next\n",
    "        self.n -= 1\n",
    "    \n",
    "    def pop(self):\n",
    "        if self.head == None:\n",
    "            return \"Empty Linked List\"\n",
    "        current = self.head\n",
    "        if current.next == None:\n",
    "            return self.delete_head()\n",
    "        while current.next.next != None:\n",
    "            current = current.next\n",
    "        current.next = None\n",
    "        self.n -= 1\n",
    "\n",
    "    def remove(self, value):\n",
    "        if self.head == None:\n",
    "            return \"Empty Linked List\"\n",
    "        current = self.head\n",
    "        if current.data == value:\n",
    "            return self.delete_head()\n",
    "        while current.next !=None:\n",
    "            if current.next.data == value:\n",
    "                break\n",
    "            current = current.next\n",
    "        # if we reached the tail and item not found\n",
    "        if current.next == None:\n",
    "            return \"Item not found\"\n",
    "        else:\n",
    "            current.next = current.next.next\n",
    "            self.n -= 1\n",
    "        \n",
    "\n",
    "    def __str__(self):\n",
    "        current = self.head\n",
    "        result = ''\n",
    "        while current!=None: # stop at end\n",
    "            result += f\"{current.data} ➡️ \"\n",
    "            current = current.next\n",
    "        return f\"[{result[:-4]}]\" # leave last 4 chars\n",
    "    \n",
    "    def __repr__(self) -> str:\n",
    "        return self.__str__()\n",
    "\n"
   ]
  },
  {
   "cell_type": "code",
   "execution_count": 217,
   "metadata": {},
   "outputs": [
    {
     "name": "stdout",
     "output_type": "stream",
     "text": [
      "[3 ➡️ 12 ➡️ 1 ➡️ 4]\n",
      "[5 ➡️ 15 ➡️ 100 ➡️ 155]\n",
      "item not found\n",
      "[5 ➡️ 15 ➡️ 100 ➡️ 155]\n",
      "[]\n"
     ]
    }
   ],
   "source": [
    "l = LinkedList()\n",
    "l.insert_head(1)\n",
    "l.insert_head(12)\n",
    "l.insert_head(3)\n",
    "l.append(4)\n",
    "print(l)\n",
    "l2 = LinkedList()\n",
    "l2.append(5)\n",
    "l2.append(15)\n",
    "l2.append(155)\n",
    "l2.insert_after(15, 100)\n",
    "print(l2)\n",
    "l2.insert_after(152, 101)\n",
    "print(l2)\n",
    "l2.clear()\n",
    "print(l2)"
   ]
  },
  {
   "cell_type": "code",
   "execution_count": 218,
   "metadata": {},
   "outputs": [
    {
     "name": "stdout",
     "output_type": "stream",
     "text": [
      "[3 ➡️ 12 ➡️ 1]\n"
     ]
    }
   ],
   "source": [
    "l.remove(4)\n",
    "print(l)"
   ]
  },
  {
   "cell_type": "code",
   "execution_count": null,
   "metadata": {},
   "outputs": [],
   "source": []
  }
 ],
 "metadata": {
  "kernelspec": {
   "display_name": "base",
   "language": "python",
   "name": "python3"
  },
  "language_info": {
   "codemirror_mode": {
    "name": "ipython",
    "version": 3
   },
   "file_extension": ".py",
   "mimetype": "text/x-python",
   "name": "python",
   "nbconvert_exporter": "python",
   "pygments_lexer": "ipython3",
   "version": "3.12.2"
  }
 },
 "nbformat": 4,
 "nbformat_minor": 2
}
